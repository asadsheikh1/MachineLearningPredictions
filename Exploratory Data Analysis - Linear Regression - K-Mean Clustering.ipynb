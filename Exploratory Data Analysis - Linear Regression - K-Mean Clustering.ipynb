{
  "nbformat": 4,
  "nbformat_minor": 0,
  "metadata": {
    "colab": {
      "provenance": []
    },
    "kernelspec": {
      "name": "python3",
      "display_name": "Python 3"
    },
    "language_info": {
      "name": "python"
    }
  },
  "cells": [
    {
      "cell_type": "markdown",
      "source": [
        "# **Section C: Practical Application (15 marks)**\n",
        "\n",
        "\n",
        "Instructions: In this section, you will be provided with a new dataset in hive. Use your knowledge of Big Data Analytics to answer the following questions.\n",
        "\n",
        "Dataset: Social Media Engagement Data\n",
        "\n",
        "`User_ID\tPost_Likes\tPost_Shares\tComment_Count\tFollower_Count`\n",
        "\n",
        "`1\t120\t30\t15\t5000`\n",
        "\n",
        "`2\t80\t20\t10\t3000`\n",
        "\n",
        "`3\t150\t40\t25\t8000`\n",
        "\n",
        "`4\t100\t15\t20\t2000`\n",
        "\n",
        "`5\t200\t50\t30\t6000`\n",
        "\n",
        "...\t...\t...\t...\t...\n",
        "\n",
        "\n",
        "1. Perform `exploratory data analysis` on the provided dataset. Identify key patterns related to social media engagement.\n",
        "2. Apply a `regression model` to predict the number of post likes based on post shares, comment count, and follower count. Evaluate the model's performance.\n",
        "3. `Cluster` the users based on their social media engagement data. Provide insights into different user segments and their engagement behaviors."
      ],
      "metadata": {
        "id": "q-gFvn9p22OT"
      }
    },
    {
      "cell_type": "code",
      "source": [
        "# !pip install findspark"
      ],
      "metadata": {
        "id": "KqkukY6p3kug",
        "colab": {
          "base_uri": "https://localhost:8080/"
        },
        "outputId": "b79317dd-8062-43da-b0a0-457f7b9ac47b"
      },
      "execution_count": null,
      "outputs": [
        {
          "output_type": "stream",
          "name": "stdout",
          "text": [
            "Collecting findspark\n",
            "  Downloading findspark-2.0.1-py2.py3-none-any.whl (4.4 kB)\n",
            "Installing collected packages: findspark\n",
            "Successfully installed findspark-2.0.1\n"
          ]
        }
      ]
    },
    {
      "cell_type": "code",
      "source": [
        "# !pip install pyspark"
      ],
      "metadata": {
        "id": "hyg5KfGU39tZ",
        "colab": {
          "base_uri": "https://localhost:8080/"
        },
        "outputId": "25715e96-2ede-48b4-dff8-8b9ff8cba890"
      },
      "execution_count": null,
      "outputs": [
        {
          "output_type": "stream",
          "name": "stdout",
          "text": [
            "Collecting pyspark\n",
            "  Downloading pyspark-3.5.0.tar.gz (316.9 MB)\n",
            "\u001b[2K     \u001b[90m━━━━━━━━━━━━━━━━━━━━━━━━━━━━━━━━━━━━━━━━\u001b[0m \u001b[32m316.9/316.9 MB\u001b[0m \u001b[31m3.7 MB/s\u001b[0m eta \u001b[36m0:00:00\u001b[0m\n",
            "\u001b[?25h  Preparing metadata (setup.py) ... \u001b[?25l\u001b[?25hdone\n",
            "Requirement already satisfied: py4j==0.10.9.7 in /usr/local/lib/python3.10/dist-packages (from pyspark) (0.10.9.7)\n",
            "Building wheels for collected packages: pyspark\n",
            "  Building wheel for pyspark (setup.py) ... \u001b[?25l\u001b[?25hdone\n",
            "  Created wheel for pyspark: filename=pyspark-3.5.0-py2.py3-none-any.whl size=317425345 sha256=ae7072df4c0a2c4eec3d9d349fc4f92d73d97130aae93e96d8176e51df92e857\n",
            "  Stored in directory: /root/.cache/pip/wheels/41/4e/10/c2cf2467f71c678cfc8a6b9ac9241e5e44a01940da8fbb17fc\n",
            "Successfully built pyspark\n",
            "Installing collected packages: pyspark\n",
            "Successfully installed pyspark-3.5.0\n"
          ]
        }
      ]
    },
    {
      "cell_type": "code",
      "source": [
        "# !pip install VectorAssembler"
      ],
      "metadata": {
        "id": "IAqPhAJC4qAq",
        "colab": {
          "base_uri": "https://localhost:8080/"
        },
        "outputId": "4516dd04-8ab5-43fa-a1b8-140f5a3953d5"
      },
      "execution_count": null,
      "outputs": [
        {
          "output_type": "stream",
          "name": "stdout",
          "text": [
            "\u001b[31mERROR: Could not find a version that satisfies the requirement VectorAssembler (from versions: none)\u001b[0m\u001b[31m\n",
            "\u001b[0m\u001b[31mERROR: No matching distribution found for VectorAssembler\u001b[0m\u001b[31m\n",
            "\u001b[0m"
          ]
        }
      ]
    },
    {
      "cell_type": "code",
      "source": [
        "# !pip install LinearRegression"
      ],
      "metadata": {
        "id": "pTZTY0iO4rci",
        "colab": {
          "base_uri": "https://localhost:8080/"
        },
        "outputId": "99760ed6-03dd-41e8-cc39-3ba67b74897c"
      },
      "execution_count": null,
      "outputs": [
        {
          "output_type": "stream",
          "name": "stdout",
          "text": [
            "Collecting LinearRegression\n",
            "  Downloading LinearRegression-0.0.1-py3-none-any.whl (2.7 kB)\n",
            "Installing collected packages: LinearRegression\n",
            "Successfully installed LinearRegression-0.0.1\n"
          ]
        }
      ]
    },
    {
      "cell_type": "code",
      "source": [
        "# !pip install ClusteringEvaluator"
      ],
      "metadata": {
        "id": "W1nP-0O55R2N",
        "colab": {
          "base_uri": "https://localhost:8080/"
        },
        "outputId": "3e61639f-422c-498f-ee5a-eb37db1c35f4"
      },
      "execution_count": null,
      "outputs": [
        {
          "output_type": "stream",
          "name": "stdout",
          "text": [
            "\u001b[31mERROR: Could not find a version that satisfies the requirement ClusteringEvaluator (from versions: none)\u001b[0m\u001b[31m\n",
            "\u001b[0m\u001b[31mERROR: No matching distribution found for ClusteringEvaluator\u001b[0m\u001b[31m\n",
            "\u001b[0m"
          ]
        }
      ]
    },
    {
      "cell_type": "code",
      "execution_count": null,
      "metadata": {
        "id": "0sqKHQXAyJkG"
      },
      "outputs": [],
      "source": [
        "import findspark\n",
        "findspark.init()"
      ]
    },
    {
      "cell_type": "code",
      "source": [
        "from pyspark.sql import SparkSession\n",
        "\n",
        "spark = SparkSession.builder.appName(\"Asad_11355\").enableHiveSupport().getOrCreate()"
      ],
      "metadata": {
        "id": "rBbsLTrpyX93"
      },
      "execution_count": null,
      "outputs": []
    },
    {
      "cell_type": "code",
      "source": [
        "data = [\n",
        "    (1, 120, 30, 15, 5000),\n",
        "    (2, 80, 20, 10, 3000),\n",
        "    (3, 150, 40, 25, 8000),\n",
        "    (4, 100, 15, 20, 2000),\n",
        "    (5, 200, 50, 30, 6000)\n",
        "]\n",
        "\n",
        "columns = [\"User_ID\", \"Post_Likes\", \"Post_Shares\", \"Comment_Count\", \"Follower_Count\"]\n",
        "\n",
        "df = spark.createDataFrame(data, columns)"
      ],
      "metadata": {
        "id": "VOBD0sYlyp29"
      },
      "execution_count": null,
      "outputs": []
    },
    {
      "cell_type": "markdown",
      "source": [
        "# **1. Exploratory Data Analysis**"
      ],
      "metadata": {
        "id": "1sRTYBhTzA5J"
      }
    },
    {
      "cell_type": "code",
      "source": [
        "df.printSchema()"
      ],
      "metadata": {
        "colab": {
          "base_uri": "https://localhost:8080/"
        },
        "id": "rVsMRWnAzJB-",
        "outputId": "794dc8e0-15d5-47ba-fc98-b12b44230e62"
      },
      "execution_count": null,
      "outputs": [
        {
          "output_type": "stream",
          "name": "stdout",
          "text": [
            "root\n",
            " |-- User_ID: long (nullable = true)\n",
            " |-- Post_Likes: long (nullable = true)\n",
            " |-- Post_Shares: long (nullable = true)\n",
            " |-- Comment_Count: long (nullable = true)\n",
            " |-- Follower_Count: long (nullable = true)\n",
            "\n"
          ]
        }
      ]
    },
    {
      "cell_type": "markdown",
      "source": [
        "# **Data Analysis**"
      ],
      "metadata": {
        "id": "Hzr3d4qEjENv"
      }
    },
    {
      "cell_type": "code",
      "source": [
        "df.describe().show()"
      ],
      "metadata": {
        "colab": {
          "base_uri": "https://localhost:8080/"
        },
        "id": "f8Beyx8vzKIy",
        "outputId": "49c56d66-875b-47d7-ccef-4f1708edbe9b"
      },
      "execution_count": null,
      "outputs": [
        {
          "output_type": "stream",
          "name": "stdout",
          "text": [
            "+-------+------------------+----------------+------------------+-----------------+------------------+\n",
            "|summary|           User_ID|      Post_Likes|       Post_Shares|    Comment_Count|    Follower_Count|\n",
            "+-------+------------------+----------------+------------------+-----------------+------------------+\n",
            "|  count|                 5|               5|                 5|                5|                 5|\n",
            "|   mean|               3.0|           130.0|              31.0|             20.0|            4800.0|\n",
            "| stddev|1.5811388300841898|46.9041575982343|14.317821063276353|7.905694150420948|2387.4672772626645|\n",
            "|    min|                 1|              80|                15|               10|              2000|\n",
            "|    max|                 5|             200|                50|               30|              8000|\n",
            "+-------+------------------+----------------+------------------+-----------------+------------------+\n",
            "\n"
          ]
        }
      ]
    },
    {
      "cell_type": "code",
      "source": [
        "df.count()"
      ],
      "metadata": {
        "colab": {
          "base_uri": "https://localhost:8080/"
        },
        "id": "W0RcmAdSibUD",
        "outputId": "dad27635-157f-4537-d848-9e7c09681320"
      },
      "execution_count": null,
      "outputs": [
        {
          "output_type": "execute_result",
          "data": {
            "text/plain": [
              "5"
            ]
          },
          "metadata": {},
          "execution_count": 12
        }
      ]
    },
    {
      "cell_type": "code",
      "source": [
        "import matplotlib.pyplot as plt\n",
        "\n",
        "plt.scatter(\"Post_Likes\", \"Post_Shares\", data=df.toPandas())\n",
        "plt.title('Post Likes vs Post Shares')\n",
        "plt.xlabel('Post Shares')\n",
        "plt.ylabel('Post Likes')\n",
        "plt.show()"
      ],
      "metadata": {
        "colab": {
          "base_uri": "https://localhost:8080/",
          "height": 472
        },
        "id": "RGR2BDahzMJZ",
        "outputId": "eff6eed1-a26c-4767-a774-94a70893eb0e"
      },
      "execution_count": null,
      "outputs": [
        {
          "output_type": "display_data",
          "data": {
            "text/plain": [
              "<Figure size 640x480 with 1 Axes>"
            ],
            "image/png": "[encoded data removed]"
          },
          "metadata": {}
        }
      ]
    },
    {
      "cell_type": "markdown",
      "source": [
        "# **2. Linear Regression**"
      ],
      "metadata": {
        "id": "GI9kRxKgzijo"
      }
    },
    {
      "cell_type": "code",
      "source": [
        "from pyspark.ml.feature import VectorAssembler\n",
        "\n",
        "assembler = VectorAssembler(inputCols=[\"Post_Shares\", \"Comment_Count\", \"Follower_Count\"], outputCol=\"features\")\n",
        "transformed_assembler = assembler.transform(df)"
      ],
      "metadata": {
        "id": "cwXtVG_3zm56"
      },
      "execution_count": null,
      "outputs": []
    },
    {
      "cell_type": "code",
      "source": [
        "train_data, test_data = transformed_assembler.randomSplit([0.8, 0.2], seed=42)"
      ],
      "metadata": {
        "id": "mZdWTbR70ONW"
      },
      "execution_count": null,
      "outputs": []
    },
    {
      "cell_type": "code",
      "source": [
        "from pyspark.ml.regression import LinearRegression\n",
        "\n",
        "linear_regression = LinearRegression(featuresCol=\"features\", labelCol=\"Post_Likes\")\n",
        "linear_regression_model = linear_regression.fit(train_data)"
      ],
      "metadata": {
        "id": "q5SdRqwo0X6O"
      },
      "execution_count": null,
      "outputs": []
    },
    {
      "cell_type": "code",
      "source": [
        "predictions = linear_regression_model.transform(test_data)"
      ],
      "metadata": {
        "id": "4DEvyIzT0jfy"
      },
      "execution_count": null,
      "outputs": []
    },
    {
      "cell_type": "code",
      "source": [
        "from pyspark.ml.evaluation import RegressionEvaluator\n",
        "\n",
        "evaluator = RegressionEvaluator(labelCol=\"Post_Likes\", predictionCol=\"prediction\", metricName=\"mse\")\n",
        "mse = evaluator.evaluate(predictions)\n",
        "print(f\"Mean Squared Error: {mse}\")"
      ],
      "metadata": {
        "colab": {
          "base_uri": "https://localhost:8080/"
        },
        "id": "iRCq__eM0tmI",
        "outputId": "c41f6568-d8ea-4220-8946-af22fb48ed37"
      },
      "execution_count": null,
      "outputs": [
        {
          "output_type": "stream",
          "name": "stdout",
          "text": [
            "Mean Squared Error: 981.7777777778389\n"
          ]
        }
      ]
    },
    {
      "cell_type": "markdown",
      "source": [
        "# **3. K-Mean Clustering**"
      ],
      "metadata": {
        "id": "wkQHQDEA1q7k"
      }
    },
    {
      "cell_type": "code",
      "source": [
        "from pyspark.ml.feature import VectorAssembler\n",
        "\n",
        "assembler = VectorAssembler(inputCols=[\"Post_Shares\", \"Comment_Count\", \"Follower_Count\"], outputCol=\"features\")\n",
        "transformed_assembler = assembler.transform(df)"
      ],
      "metadata": {
        "id": "4nugvoFe1tw2"
      },
      "execution_count": null,
      "outputs": []
    },
    {
      "cell_type": "code",
      "source": [
        "from pyspark.ml.clustering import KMeans\n",
        "\n",
        "k_mean_clustering = KMeans(featuresCol=\"features\", k=2)\n",
        "k_mean_clustering_model = k_mean_clustering.fit(transformed_assembler)"
      ],
      "metadata": {
        "id": "07tKwoSy1v4-"
      },
      "execution_count": null,
      "outputs": []
    },
    {
      "cell_type": "code",
      "source": [
        "predictions = k_mean_clustering_model.transform(transformed_assembler)"
      ],
      "metadata": {
        "id": "0KWY83Cf1v8j"
      },
      "execution_count": null,
      "outputs": []
    },
    {
      "cell_type": "code",
      "source": [
        "from pyspark.ml.evaluation import ClusteringEvaluator\n",
        "\n",
        "evaluator = ClusteringEvaluator()\n",
        "silhouette = evaluator.evaluate(predictions)\n",
        "print(f\"Silhouette Score for Clustering: {silhouette}\")"
      ],
      "metadata": {
        "colab": {
          "base_uri": "https://localhost:8080/"
        },
        "id": "3FUATCo31v_n",
        "outputId": "ebb47f79-1dc2-4434-9e47-832988ececb6"
      },
      "execution_count": null,
      "outputs": [
        {
          "output_type": "stream",
          "name": "stdout",
          "text": [
            "Silhouette Score for Clustering: 0.7378931348597801\n"
          ]
        }
      ]
    },
    {
      "cell_type": "markdown",
      "source": [
        "# **Stats**"
      ],
      "metadata": {
        "id": "Sjjqw__x59kY"
      }
    },
    {
      "cell_type": "code",
      "source": [
        "from pyspark.ml.stat import Correlation\n",
        "\n",
        "corr_matrix = Correlation.corr(transformed_assembler, \"features\").head()\n",
        "print(\"Correlation matrix:\\n\", str(corr_matrix[0]))"
      ],
      "metadata": {
        "colab": {
          "base_uri": "https://localhost:8080/"
        },
        "id": "V_iSwPzbjkQ3",
        "outputId": "c586cc37-0b84-40ac-b883-85acd9a57ed6"
      },
      "execution_count": null,
      "outputs": [
        {
          "output_type": "stream",
          "name": "stdout",
          "text": [
            "Correlation matrix:\n",
            " DenseMatrix([[1.        , 0.77302068, 0.84836675],\n",
            "             [0.77302068, 1.        , 0.59603956],\n",
            "             [0.84836675, 0.59603956, 1.        ]])\n"
          ]
        }
      ]
    },
    {
      "cell_type": "code",
      "source": [
        "from pyspark.sql import functions as F\n",
        "from pyspark.sql import Window"
      ],
      "metadata": {
        "id": "GXZIajBikozJ"
      },
      "execution_count": null,
      "outputs": []
    },
    {
      "cell_type": "markdown",
      "source": [
        "# **Mean**"
      ],
      "metadata": {
        "id": "k9mT21xxkyd7"
      }
    },
    {
      "cell_type": "code",
      "source": [
        "mean_likes = df.agg(F.mean(\"Post_Likes\").alias(\"Mean_Likes\")).collect()[0][\"Mean_Likes\"]\n",
        "print(f\"Mean Likes: {mean_likes}\")"
      ],
      "metadata": {
        "colab": {
          "base_uri": "https://localhost:8080/"
        },
        "id": "mjYsO3dxkw-S",
        "outputId": "6a8c1966-3613-46d5-d1f0-0d15913e5d01"
      },
      "execution_count": null,
      "outputs": [
        {
          "output_type": "stream",
          "name": "stdout",
          "text": [
            "Mean Likes: 130.0\n"
          ]
        }
      ]
    },
    {
      "cell_type": "markdown",
      "source": [
        "# **Median**"
      ],
      "metadata": {
        "id": "s7zzR3Yvk1bN"
      }
    },
    {
      "cell_type": "code",
      "source": [
        "median_likes = df.approxQuantile(\"Post_Likes\", [0.5], 0.01)[0]\n",
        "print(f\"Median Likes: {median_likes}\")"
      ],
      "metadata": {
        "colab": {
          "base_uri": "https://localhost:8080/"
        },
        "id": "fLbObmFqk1zs",
        "outputId": "6f83da60-82f6-4402-dbae-8f914fd6fead"
      },
      "execution_count": null,
      "outputs": [
        {
          "output_type": "stream",
          "name": "stdout",
          "text": [
            "Median Likes: 120.0\n"
          ]
        }
      ]
    },
    {
      "cell_type": "markdown",
      "source": [
        "# **Mode**"
      ],
      "metadata": {
        "id": "EhnNAwpyk14m"
      }
    },
    {
      "cell_type": "code",
      "source": [
        "mode_likes = df.groupBy(\"Post_Likes\").count().orderBy(F.desc(\"count\")).select(\"Post_Likes\").first()[\"Post_Likes\"]\n",
        "print(f\"Mode Likes: {mode_likes}\")"
      ],
      "metadata": {
        "colab": {
          "base_uri": "https://localhost:8080/"
        },
        "id": "5P6KTRhwk2Dv",
        "outputId": "56c752bd-a7c6-4845-a724-1c8f28dc3d43"
      },
      "execution_count": null,
      "outputs": [
        {
          "output_type": "stream",
          "name": "stdout",
          "text": [
            "Mode Likes: 120\n"
          ]
        }
      ]
    }
  ]
}