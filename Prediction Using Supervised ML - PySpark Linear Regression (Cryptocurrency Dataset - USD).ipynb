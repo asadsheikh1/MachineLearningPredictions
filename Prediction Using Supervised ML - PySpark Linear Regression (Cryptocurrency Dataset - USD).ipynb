{
  "nbformat": 4,
  "nbformat_minor": 0,
  "metadata": {
    "colab": {
      "provenance": []
    },
    "kernelspec": {
      "name": "python3",
      "display_name": "Python 3"
    },
    "language_info": {
      "name": "python"
    }
  },
  "cells": [
    {
      "cell_type": "code",
      "source": [
        "# !pip3 install pyspark"
      ],
      "metadata": {
        "id": "oYioOLB2vtpt"
      },
      "execution_count": 1,
      "outputs": []
    },
    {
      "cell_type": "markdown",
      "source": [
        "# **Introduction to Big Data**\n",
        "\n",
        "# **Prediction Using Supervised ML - PySpark Linear Regression (Cryptocurrency Dataset - USD)**\n",
        "\n",
        "## **Data Science & Business Analytics**\n",
        "\n",
        "## **Student 1: 11355 | Asad Tariq Sheikh**\n",
        "\n",
        "## **Student 2: 10718 | Muzammil Ahmed**\n",
        "\n",
        "Dataset: https://raw.githubusercontent.com/asadsheikh1/MachineLearningPredictions/main/usd.csv"
      ],
      "metadata": {
        "id": "kpjWP2VqxLRr"
      }
    },
    {
      "cell_type": "code",
      "source": [
        "from pyspark.sql import SparkSession\n",
        "from pyspark.ml.feature import VectorAssembler\n",
        "from pyspark.ml.regression import LinearRegression\n",
        "from pyspark.ml.evaluation import RegressionEvaluator\n",
        "import urllib.request\n"
      ],
      "metadata": {
        "id": "AQeJ_njTvpjt"
      },
      "execution_count": 2,
      "outputs": []
    },
    {
      "cell_type": "markdown",
      "source": [
        "# **Create a Spark session**"
      ],
      "metadata": {
        "id": "1Bsizz6gxRS7"
      }
    },
    {
      "cell_type": "code",
      "source": [
        "spark = SparkSession.builder.appName(\"LinearRegressionExample\").getOrCreate()"
      ],
      "metadata": {
        "id": "NcA1UqixxQAs"
      },
      "execution_count": 3,
      "outputs": []
    },
    {
      "cell_type": "markdown",
      "source": [
        "# **Download the CSV file locally**"
      ],
      "metadata": {
        "id": "rFEOQKTvxgek"
      }
    },
    {
      "cell_type": "code",
      "source": [
        "url = \"https://raw.githubusercontent.com/asadsheikh1/MachineLearningPredictions/main/usd.csv\"\n",
        "local_file_path = \"usd.csv\"\n",
        "urllib.request.urlretrieve(url, local_file_path)"
      ],
      "metadata": {
        "colab": {
          "base_uri": "https://localhost:8080/"
        },
        "id": "v6xe77Cqvoz7",
        "outputId": "e967956a-a4ef-42fe-f4f7-d5a2b5f392b4"
      },
      "execution_count": 4,
      "outputs": [
        {
          "output_type": "execute_result",
          "data": {
            "text/plain": [
              "('usd.csv', <http.client.HTTPMessage at 0x7d476a281e10>)"
            ]
          },
          "metadata": {},
          "execution_count": 4
        }
      ]
    },
    {
      "cell_type": "markdown",
      "source": [
        "# **Load data from the local CSV file**"
      ],
      "metadata": {
        "id": "WzNfYpalxkCS"
      }
    },
    {
      "cell_type": "code",
      "source": [
        "data = spark.read.csv(local_file_path, header=True, inferSchema=True)"
      ],
      "metadata": {
        "id": "15HPAdlmxi8a"
      },
      "execution_count": 5,
      "outputs": []
    },
    {
      "cell_type": "markdown",
      "source": [
        "# **Display the schema and first few rows of the DataFrame**"
      ],
      "metadata": {
        "id": "Ua_FyEdPxmLm"
      }
    },
    {
      "cell_type": "code",
      "source": [
        "data.printSchema()\n",
        "data.show()"
      ],
      "metadata": {
        "colab": {
          "base_uri": "https://localhost:8080/"
        },
        "id": "creKwYLAvfar",
        "outputId": "aa5eba6e-4a10-4222-c890-81ddff641aba"
      },
      "execution_count": 6,
      "outputs": [
        {
          "output_type": "stream",
          "name": "stdout",
          "text": [
            "root\n",
            " |-- Date: string (nullable = true)\n",
            " |-- Open: double (nullable = true)\n",
            " |-- High: double (nullable = true)\n",
            " |-- Low: double (nullable = true)\n",
            " |-- Close: double (nullable = true)\n",
            " |-- Volume: long (nullable = true)\n",
            " |-- Currency: string (nullable = true)\n",
            "\n",
            "+----------+----+----+---+-----+------+--------+\n",
            "|      Date|Open|High|Low|Close|Volume|Currency|\n",
            "+----------+----+----+---+-----+------+--------+\n",
            "|18/07/2010| 0.0| 0.1|0.1|  0.1|    75|     USD|\n",
            "|19/07/2010| 0.1| 0.1|0.1|  0.1|   574|     USD|\n",
            "|20/07/2010| 0.1| 0.1|0.1|  0.1|   262|     USD|\n",
            "|21/07/2010| 0.1| 0.1|0.1|  0.1|   575|     USD|\n",
            "|22/07/2010| 0.1| 0.1|0.1|  0.1|  2160|     USD|\n",
            "|23/07/2010| 0.1| 0.1|0.1|  0.1|  2403|     USD|\n",
            "|24/07/2010| 0.1| 0.1|0.1|  0.1|   496|     USD|\n",
            "|25/07/2010| 0.1| 0.1|0.1|  0.1|  1551|     USD|\n",
            "|26/07/2010| 0.1| 0.1|0.1|  0.1|   877|     USD|\n",
            "|27/07/2010| 0.1| 0.1|0.1|  0.1|  3374|     USD|\n",
            "|28/07/2010| 0.1| 0.1|0.1|  0.1|  4390|     USD|\n",
            "|29/07/2010| 0.1| 0.1|0.1|  0.1|  8058|     USD|\n",
            "|30/07/2010| 0.1| 0.1|0.1|  0.1|  3021|     USD|\n",
            "|31/07/2010| 0.1| 0.1|0.1|  0.1|  4022|     USD|\n",
            "|01/08/2010| 0.1| 0.1|0.1|  0.1|  2601|     USD|\n",
            "|02/08/2010| 0.1| 0.1|0.1|  0.1|  3599|     USD|\n",
            "|03/08/2010| 0.1| 0.1|0.1|  0.1|  9821|     USD|\n",
            "|04/08/2010| 0.1| 0.1|0.1|  0.1|  3494|     USD|\n",
            "|05/08/2010| 0.1| 0.1|0.1|  0.1|  5034|     USD|\n",
            "|06/08/2010| 0.1| 0.1|0.1|  0.1|  1395|     USD|\n",
            "+----------+----+----+---+-----+------+--------+\n",
            "only showing top 20 rows\n",
            "\n"
          ]
        }
      ]
    },
    {
      "cell_type": "markdown",
      "source": [
        "# **Assuming `Close` is the column you want to predict**"
      ],
      "metadata": {
        "id": "JaNK-3kPxqTa"
      }
    },
    {
      "cell_type": "code",
      "source": [
        "assembler = VectorAssembler(inputCols=['Open', 'High', 'Low', 'Volume'], outputCol='features')\n",
        "data = assembler.transform(data)"
      ],
      "metadata": {
        "id": "gU21JaJIvf_h"
      },
      "execution_count": 7,
      "outputs": []
    },
    {
      "cell_type": "markdown",
      "source": [
        "# **Rename the `Close` column to `label`**"
      ],
      "metadata": {
        "id": "YPVG_YZmxwQB"
      }
    },
    {
      "cell_type": "code",
      "source": [
        "data = data.withColumnRenamed('Close', 'label')"
      ],
      "metadata": {
        "id": "ThPSMqGqvguU"
      },
      "execution_count": 8,
      "outputs": []
    },
    {
      "cell_type": "markdown",
      "source": [
        "# **Split the data into training and testing sets**"
      ],
      "metadata": {
        "id": "DQKqVvucx0HZ"
      }
    },
    {
      "cell_type": "code",
      "source": [
        "train_data, test_data = data.randomSplit([0.8, 0.2], seed=1234)"
      ],
      "metadata": {
        "id": "2LGr0GnPvhNH"
      },
      "execution_count": 9,
      "outputs": []
    },
    {
      "cell_type": "markdown",
      "source": [
        "# **Create a Linear Regression model**"
      ],
      "metadata": {
        "id": "HG_9KnUSx2Od"
      }
    },
    {
      "cell_type": "code",
      "source": [
        "lr = LinearRegression(featuresCol='features', labelCol='label')"
      ],
      "metadata": {
        "id": "JPpBJLWIvhpJ"
      },
      "execution_count": 10,
      "outputs": []
    },
    {
      "cell_type": "markdown",
      "source": [
        "# **Train the model**"
      ],
      "metadata": {
        "id": "zU3E_3hzx4Ps"
      }
    },
    {
      "cell_type": "code",
      "source": [
        "lr_model = lr.fit(train_data)"
      ],
      "metadata": {
        "id": "5QmfZwFKviEF"
      },
      "execution_count": 11,
      "outputs": []
    },
    {
      "cell_type": "markdown",
      "source": [
        "# **Make predictions on the test set**"
      ],
      "metadata": {
        "id": "gnPeQ9Nex6H0"
      }
    },
    {
      "cell_type": "code",
      "source": [
        "predictions = lr_model.transform(test_data)"
      ],
      "metadata": {
        "id": "d_Zk1rdjvijS"
      },
      "execution_count": 12,
      "outputs": []
    },
    {
      "cell_type": "markdown",
      "source": [
        "# **Evaluate the model**"
      ],
      "metadata": {
        "id": "QN2iAiFax8L9"
      }
    },
    {
      "cell_type": "code",
      "source": [
        "evaluator = RegressionEvaluator(labelCol='label', predictionCol='prediction', metricName='rmse')\n",
        "rmse = evaluator.evaluate(predictions)"
      ],
      "metadata": {
        "id": "e9IoN67ZxIYi"
      },
      "execution_count": 13,
      "outputs": []
    },
    {
      "cell_type": "markdown",
      "source": [
        "# **Metrics**"
      ],
      "metadata": {
        "id": "kJTYHpfByC04"
      }
    },
    {
      "cell_type": "code",
      "source": [
        "print(f\"Root Mean Squared Error (RMSE): {rmse}\")\n",
        "print(f\"Coefficients: {lr_model.coefficients}\")\n",
        "print(f\"Intercept: {lr_model.intercept}\")"
      ],
      "metadata": {
        "colab": {
          "base_uri": "https://localhost:8080/"
        },
        "id": "z9JeD3cExI6_",
        "outputId": "24e931ce-6612-454c-8a97-3d3c86c86732"
      },
      "execution_count": 14,
      "outputs": [
        {
          "output_type": "stream",
          "name": "stdout",
          "text": [
            "Root Mean Squared Error (RMSE): 328.3690506500255\n",
            "Coefficients: [-0.5225964280228853,0.9436926781269785,0.5714438384313236,-8.648311819732884e-08]\n",
            "Intercept: 1.2594583827791468\n"
          ]
        }
      ]
    },
    {
      "cell_type": "markdown",
      "source": [
        "# **Stop the Spark session**"
      ],
      "metadata": {
        "id": "0BFwG0BKyAX5"
      }
    },
    {
      "cell_type": "code",
      "source": [
        "# spark.stop()"
      ],
      "metadata": {
        "id": "k3uhvaKRxEcj"
      },
      "execution_count": 15,
      "outputs": []
    }
  ]
}