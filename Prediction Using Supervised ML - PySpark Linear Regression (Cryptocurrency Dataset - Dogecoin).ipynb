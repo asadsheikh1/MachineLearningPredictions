{
  "nbformat": 4,
  "nbformat_minor": 0,
  "metadata": {
    "colab": {
      "provenance": []
    },
    "kernelspec": {
      "name": "python3",
      "display_name": "Python 3"
    },
    "language_info": {
      "name": "python"
    }
  },
  "cells": [
    {
      "cell_type": "code",
      "source": [
        "# !pip3 install pyspark"
      ],
      "metadata": {
        "id": "oYioOLB2vtpt",
        "colab": {
          "base_uri": "https://localhost:8080/"
        },
        "outputId": "f80355c1-3e83-48f6-b1b8-044ab678784c"
      },
      "execution_count": 1,
      "outputs": [
        {
          "output_type": "stream",
          "name": "stdout",
          "text": [
            "Collecting pyspark\n",
            "  Downloading pyspark-3.5.0.tar.gz (316.9 MB)\n",
            "\u001b[2K     \u001b[90m━━━━━━━━━━━━━━━━━━━━━━━━━━━━━━━━━━━━━━━━\u001b[0m \u001b[32m316.9/316.9 MB\u001b[0m \u001b[31m2.5 MB/s\u001b[0m eta \u001b[36m0:00:00\u001b[0m\n",
            "\u001b[?25h  Preparing metadata (setup.py) ... \u001b[?25l\u001b[?25hdone\n",
            "Requirement already satisfied: py4j==0.10.9.7 in /usr/local/lib/python3.10/dist-packages (from pyspark) (0.10.9.7)\n",
            "Building wheels for collected packages: pyspark\n",
            "  Building wheel for pyspark (setup.py) ... \u001b[?25l\u001b[?25hdone\n",
            "  Created wheel for pyspark: filename=pyspark-3.5.0-py2.py3-none-any.whl size=317425345 sha256=b835d2b2742346bc75d2f02d62a9ac0802424a3591438d733c43eb304d6ad86a\n",
            "  Stored in directory: /root/.cache/pip/wheels/41/4e/10/c2cf2467f71c678cfc8a6b9ac9241e5e44a01940da8fbb17fc\n",
            "Successfully built pyspark\n",
            "Installing collected packages: pyspark\n",
            "Successfully installed pyspark-3.5.0\n"
          ]
        }
      ]
    },
    {
      "cell_type": "markdown",
      "source": [
        "# **Introduction to Big Data**\n",
        "\n",
        "# **Prediction Using Supervised ML - PySpark Linear Regression (Cryptocurrency Dataset - DogeCoin)**\n",
        "\n",
        "## **Data Science & Business Analytics**\n",
        "\n",
        "## **Student 1: 11355 | Asad Tariq Sheikh**\n",
        "\n",
        "## **Student 2: 10718 | Muzammil Ahmed**\n",
        "\n",
        "Dataset: https://raw.githubusercontent.com/asadsheikh1/MachineLearningPredictions/main/dogecoin.csv"
      ],
      "metadata": {
        "id": "kpjWP2VqxLRr"
      }
    },
    {
      "cell_type": "code",
      "source": [
        "from pyspark.sql import SparkSession\n",
        "from pyspark.ml.feature import VectorAssembler\n",
        "from pyspark.ml.regression import LinearRegression\n",
        "from pyspark.ml.evaluation import RegressionEvaluator\n",
        "import urllib.request"
      ],
      "metadata": {
        "id": "AQeJ_njTvpjt"
      },
      "execution_count": 2,
      "outputs": []
    },
    {
      "cell_type": "markdown",
      "source": [
        "# **Create a Spark session**"
      ],
      "metadata": {
        "id": "1Bsizz6gxRS7"
      }
    },
    {
      "cell_type": "code",
      "source": [
        "spark = SparkSession.builder.appName(\"LinearRegressionExample\").getOrCreate()"
      ],
      "metadata": {
        "id": "NcA1UqixxQAs"
      },
      "execution_count": 3,
      "outputs": []
    },
    {
      "cell_type": "markdown",
      "source": [
        "# **Download the CSV file locally**"
      ],
      "metadata": {
        "id": "rFEOQKTvxgek"
      }
    },
    {
      "cell_type": "code",
      "source": [
        "url = \"https://raw.githubusercontent.com/asadsheikh1/MachineLearningPredictions/main/dogecoin.csv\"\n",
        "local_file_path = \"dogecoin.csv\"\n",
        "urllib.request.urlretrieve(url, local_file_path)"
      ],
      "metadata": {
        "colab": {
          "base_uri": "https://localhost:8080/"
        },
        "id": "v6xe77Cqvoz7",
        "outputId": "c9d273ca-b5fc-442b-9b4c-8fd905d50a9d"
      },
      "execution_count": 4,
      "outputs": [
        {
          "output_type": "execute_result",
          "data": {
            "text/plain": [
              "('dogecoin.csv', <http.client.HTTPMessage at 0x7e7cf4155000>)"
            ]
          },
          "metadata": {},
          "execution_count": 4
        }
      ]
    },
    {
      "cell_type": "markdown",
      "source": [
        "# **Load data from the local CSV file**"
      ],
      "metadata": {
        "id": "WzNfYpalxkCS"
      }
    },
    {
      "cell_type": "code",
      "source": [
        "data = spark.read.csv(local_file_path, header=True, inferSchema=True)"
      ],
      "metadata": {
        "id": "15HPAdlmxi8a"
      },
      "execution_count": 5,
      "outputs": []
    },
    {
      "cell_type": "markdown",
      "source": [
        "# **Display the schema and first few rows of the DataFrame**"
      ],
      "metadata": {
        "id": "Ua_FyEdPxmLm"
      }
    },
    {
      "cell_type": "code",
      "source": [
        "data.printSchema()\n",
        "data.show()"
      ],
      "metadata": {
        "colab": {
          "base_uri": "https://localhost:8080/"
        },
        "id": "creKwYLAvfar",
        "outputId": "142fa8e9-112f-446e-ff76-faf6cc61c9e2"
      },
      "execution_count": 6,
      "outputs": [
        {
          "output_type": "stream",
          "name": "stdout",
          "text": [
            "root\n",
            " |-- Date: date (nullable = true)\n",
            " |-- Open: double (nullable = true)\n",
            " |-- High: double (nullable = true)\n",
            " |-- Low: double (nullable = true)\n",
            " |-- Close: double (nullable = true)\n",
            " |-- Volume: long (nullable = true)\n",
            " |-- Currency: string (nullable = true)\n",
            "\n",
            "+----------+--------+--------+--------+--------+-------+--------+\n",
            "|      Date|    Open|    High|     Low|   Close| Volume|Currency|\n",
            "+----------+--------+--------+--------+--------+-------+--------+\n",
            "|2017-06-03|0.002803|0.003398|0.002655|0.003213|4369225|     USD|\n",
            "|2017-06-04|0.003213| 0.00377|0.002544| 0.00377|5963160|     USD|\n",
            "|2017-06-05| 0.00377|0.003825|0.002923|0.003718|4823315|     USD|\n",
            "|2017-06-06|0.003718|0.003718|0.003152|0.003617|2114105|     USD|\n",
            "|2017-06-07|0.003617| 0.00395|0.003132| 0.00325|1371475|     USD|\n",
            "|2017-06-08| 0.00325|0.003511|0.003055|0.003431|1544340|     USD|\n",
            "|2017-06-09|0.003431|0.003752| 0.00329|0.003426|3428495|     USD|\n",
            "|2017-06-10|0.003426|0.003591| 0.00313|0.003278|2244725|     USD|\n",
            "|2017-06-11|0.003278|0.003563|0.003195|0.003454|2436910|     USD|\n",
            "|2017-06-12|0.003454|0.003479|0.002464| 0.00299|2421580|     USD|\n",
            "|2017-06-13| 0.00299|0.003408|  0.0028|0.003187|2285395|     USD|\n",
            "|2017-06-14|0.003187|0.003384|0.002604|0.002824|3636675|     USD|\n",
            "|2017-06-15|0.002824|0.003083|  0.0023|0.002936|4353755|     USD|\n",
            "|2017-06-16|0.002936|  0.0032|0.002634|0.003058|7401100|     USD|\n",
            "|2017-06-17|0.003058|0.003355| 0.00293|0.003246|5559540|     USD|\n",
            "|2017-06-18|0.003246|0.003294|0.002867|0.002994|6070015|     USD|\n",
            "|2017-06-19|0.002994|0.003316|0.002928|0.003168|5954515|     USD|\n",
            "|2017-06-20|0.003168|0.003235|0.003035|0.003104|4153485|     USD|\n",
            "|2017-06-21|0.003104|0.003235|0.002822|0.002963|4088210|     USD|\n",
            "|2017-06-22|0.002963|0.003179|0.002849|0.002987|9051700|     USD|\n",
            "+----------+--------+--------+--------+--------+-------+--------+\n",
            "only showing top 20 rows\n",
            "\n"
          ]
        }
      ]
    },
    {
      "cell_type": "markdown",
      "source": [
        "# **Assuming `Close` is the column you want to predict**"
      ],
      "metadata": {
        "id": "JaNK-3kPxqTa"
      }
    },
    {
      "cell_type": "code",
      "source": [
        "assembler = VectorAssembler(inputCols=['Open', 'High', 'Low', 'Volume'], outputCol='features')\n",
        "data = assembler.transform(data)"
      ],
      "metadata": {
        "id": "gU21JaJIvf_h"
      },
      "execution_count": 7,
      "outputs": []
    },
    {
      "cell_type": "markdown",
      "source": [
        "# **Rename the `Close` column to `label`**"
      ],
      "metadata": {
        "id": "YPVG_YZmxwQB"
      }
    },
    {
      "cell_type": "code",
      "source": [
        "data = data.withColumnRenamed('Close', 'label')"
      ],
      "metadata": {
        "id": "ThPSMqGqvguU"
      },
      "execution_count": 8,
      "outputs": []
    },
    {
      "cell_type": "markdown",
      "source": [
        "# **Split the data into training and testing sets**"
      ],
      "metadata": {
        "id": "DQKqVvucx0HZ"
      }
    },
    {
      "cell_type": "code",
      "source": [
        "train_data, test_data = data.randomSplit([0.8, 0.2], seed=1234)"
      ],
      "metadata": {
        "id": "2LGr0GnPvhNH"
      },
      "execution_count": 9,
      "outputs": []
    },
    {
      "cell_type": "markdown",
      "source": [
        "# **Create a Linear Regression model**"
      ],
      "metadata": {
        "id": "HG_9KnUSx2Od"
      }
    },
    {
      "cell_type": "code",
      "source": [
        "lr = LinearRegression(featuresCol='features', labelCol='label')"
      ],
      "metadata": {
        "id": "JPpBJLWIvhpJ"
      },
      "execution_count": 10,
      "outputs": []
    },
    {
      "cell_type": "markdown",
      "source": [
        "# **Train the model**"
      ],
      "metadata": {
        "id": "zU3E_3hzx4Ps"
      }
    },
    {
      "cell_type": "code",
      "source": [
        "lr_model = lr.fit(train_data)"
      ],
      "metadata": {
        "id": "5QmfZwFKviEF"
      },
      "execution_count": 11,
      "outputs": []
    },
    {
      "cell_type": "markdown",
      "source": [
        "# **Make predictions on the test set**"
      ],
      "metadata": {
        "id": "gnPeQ9Nex6H0"
      }
    },
    {
      "cell_type": "code",
      "source": [
        "predictions = lr_model.transform(test_data)"
      ],
      "metadata": {
        "id": "d_Zk1rdjvijS"
      },
      "execution_count": 12,
      "outputs": []
    },
    {
      "cell_type": "markdown",
      "source": [
        "# **Evaluate the model**"
      ],
      "metadata": {
        "id": "QN2iAiFax8L9"
      }
    },
    {
      "cell_type": "code",
      "source": [
        "evaluator = RegressionEvaluator(labelCol='label', predictionCol='prediction', metricName='rmse')\n",
        "rmse = evaluator.evaluate(predictions)\n",
        "evaluator = RegressionEvaluator(labelCol='label', predictionCol='prediction', metricName='rmse')\n",
        "rmse = evaluator.evaluate(predictions)"
      ],
      "metadata": {
        "id": "e9IoN67ZxIYi"
      },
      "execution_count": 13,
      "outputs": []
    },
    {
      "cell_type": "markdown",
      "source": [
        "# **Metrics**"
      ],
      "metadata": {
        "id": "kJTYHpfByC04"
      }
    },
    {
      "cell_type": "code",
      "source": [
        "print(f\"Root Mean Squared Error (RMSE): {rmse}\")\n",
        "print(f\"Coefficients: {lr_model.coefficients}\")\n",
        "print(f\"Intercept: {lr_model.intercept}\")\n",
        "print(f\"Root Mean Squared Error (RMSE): {rmse}\")"
      ],
      "metadata": {
        "colab": {
          "base_uri": "https://localhost:8080/"
        },
        "id": "z9JeD3cExI6_",
        "outputId": "6e05f2d7-f2b3-49f2-dfe0-52f9e131b4e0"
      },
      "execution_count": 14,
      "outputs": [
        {
          "output_type": "stream",
          "name": "stdout",
          "text": [
            "Root Mean Squared Error (RMSE): 0.0032919806409871764\n",
            "Coefficients: [-0.43902470153562245,0.8051312617780186,0.6254544463582187,-2.976581469242082e-14]\n",
            "Intercept: 8.288226063960647e-05\n",
            "Root Mean Squared Error (RMSE): 0.0032919806409871764\n"
          ]
        }
      ]
    },
    {
      "cell_type": "markdown",
      "source": [
        "# **Stop the Spark session**"
      ],
      "metadata": {
        "id": "0BFwG0BKyAX5"
      }
    },
    {
      "cell_type": "code",
      "source": [
        "# spark.stop()"
      ],
      "metadata": {
        "id": "k3uhvaKRxEcj"
      },
      "execution_count": 15,
      "outputs": []
    },
    {
      "cell_type": "code",
      "source": [],
      "metadata": {
        "id": "-mqhDNpJ0soI"
      },
      "execution_count": 15,
      "outputs": []
    }
  ]
}