{
  "nbformat": 4,
  "nbformat_minor": 0,
  "metadata": {
    "colab": {
      "provenance": []
    },
    "kernelspec": {
      "name": "python3",
      "display_name": "Python 3"
    },
    "language_info": {
      "name": "python"
    }
  },
  "cells": [
    {
      "cell_type": "code",
      "source": [
        "# !pip3 install pyspark"
      ],
      "metadata": {
        "id": "oYioOLB2vtpt",
        "colab": {
          "base_uri": "https://localhost:8080/"
        },
        "outputId": "e23d1f60-723d-44c9-a3ca-f8d379bc718a"
      },
      "execution_count": 1,
      "outputs": [
        {
          "output_type": "stream",
          "name": "stdout",
          "text": [
            "Collecting pyspark\n",
            "  Downloading pyspark-3.5.0.tar.gz (316.9 MB)\n",
            "\u001b[2K     \u001b[90m━━━━━━━━━━━━━━━━━━━━━━━━━━━━━━━━━━━━━━━━\u001b[0m \u001b[32m316.9/316.9 MB\u001b[0m \u001b[31m3.4 MB/s\u001b[0m eta \u001b[36m0:00:00\u001b[0m\n",
            "\u001b[?25h  Preparing metadata (setup.py) ... \u001b[?25l\u001b[?25hdone\n",
            "Requirement already satisfied: py4j==0.10.9.7 in /usr/local/lib/python3.10/dist-packages (from pyspark) (0.10.9.7)\n",
            "Building wheels for collected packages: pyspark\n",
            "  Building wheel for pyspark (setup.py) ... \u001b[?25l\u001b[?25hdone\n",
            "  Created wheel for pyspark: filename=pyspark-3.5.0-py2.py3-none-any.whl size=317425345 sha256=051f2938c3f239c9c30b7baa14fca5ae8014ee09d1241e1af7e4ad0f959a7de6\n",
            "  Stored in directory: /root/.cache/pip/wheels/41/4e/10/c2cf2467f71c678cfc8a6b9ac9241e5e44a01940da8fbb17fc\n",
            "Successfully built pyspark\n",
            "Installing collected packages: pyspark\n",
            "Successfully installed pyspark-3.5.0\n"
          ]
        }
      ]
    },
    {
      "cell_type": "markdown",
      "source": [
        "# **Introduction to Big Data**\n",
        "\n",
        "# **Prediction Using Supervised ML - PySpark Linear Regression (Cryptocurrency Dataset - BTC)**\n",
        "\n",
        "## **Data Science & Business Analytics**\n",
        "\n",
        "## **Student 1: 11355 | Asad Tariq Sheikh**\n",
        "\n",
        "## **Student 2: 10718 | Muzammil Ahmed**\n",
        "\n",
        "Dataset: https://raw.githubusercontent.com/asadsheikh1/MachineLearningPredictions/main/bitcoin.csv"
      ],
      "metadata": {
        "id": "kpjWP2VqxLRr"
      }
    },
    {
      "cell_type": "code",
      "source": [
        "from pyspark.sql import SparkSession\n",
        "from pyspark.ml.feature import VectorAssembler\n",
        "from pyspark.ml.regression import LinearRegression\n",
        "from pyspark.ml.evaluation import RegressionEvaluator\n",
        "import urllib.request"
      ],
      "metadata": {
        "id": "AQeJ_njTvpjt"
      },
      "execution_count": 2,
      "outputs": []
    },
    {
      "cell_type": "markdown",
      "source": [
        "# **Create a Spark session**"
      ],
      "metadata": {
        "id": "1Bsizz6gxRS7"
      }
    },
    {
      "cell_type": "code",
      "source": [
        "spark = SparkSession.builder.appName(\"LinearRegressionExample\").getOrCreate()"
      ],
      "metadata": {
        "id": "NcA1UqixxQAs"
      },
      "execution_count": 3,
      "outputs": []
    },
    {
      "cell_type": "markdown",
      "source": [
        "# **Download the CSV file locally**"
      ],
      "metadata": {
        "id": "rFEOQKTvxgek"
      }
    },
    {
      "cell_type": "code",
      "source": [
        "url = \"https://raw.githubusercontent.com/asadsheikh1/MachineLearningPredictions/main/bitcoin.csv\"\n",
        "local_file_path = \"bitcoin.csv\"\n",
        "urllib.request.urlretrieve(url, local_file_path)"
      ],
      "metadata": {
        "colab": {
          "base_uri": "https://localhost:8080/"
        },
        "id": "v6xe77Cqvoz7",
        "outputId": "1e7602fd-3b61-4ea6-86be-318c1d09fd3a"
      },
      "execution_count": 4,
      "outputs": [
        {
          "output_type": "execute_result",
          "data": {
            "text/plain": [
              "('bitcoin.csv', <http.client.HTTPMessage at 0x7dfc78c95120>)"
            ]
          },
          "metadata": {},
          "execution_count": 4
        }
      ]
    },
    {
      "cell_type": "markdown",
      "source": [
        "# **Load data from the local CSV file**"
      ],
      "metadata": {
        "id": "WzNfYpalxkCS"
      }
    },
    {
      "cell_type": "code",
      "source": [
        "data = spark.read.csv(local_file_path, header=True, inferSchema=True)"
      ],
      "metadata": {
        "id": "15HPAdlmxi8a"
      },
      "execution_count": 5,
      "outputs": []
    },
    {
      "cell_type": "markdown",
      "source": [
        "# **Display the schema and first few rows of the DataFrame**"
      ],
      "metadata": {
        "id": "Ua_FyEdPxmLm"
      }
    },
    {
      "cell_type": "code",
      "source": [
        "data.printSchema()\n",
        "data.show()"
      ],
      "metadata": {
        "colab": {
          "base_uri": "https://localhost:8080/"
        },
        "id": "creKwYLAvfar",
        "outputId": "71b3f185-d747-4530-8e9f-51f0eca66b4b"
      },
      "execution_count": 6,
      "outputs": [
        {
          "output_type": "stream",
          "name": "stdout",
          "text": [
            "root\n",
            " |-- Date: date (nullable = true)\n",
            " |-- Open: double (nullable = true)\n",
            " |-- High: double (nullable = true)\n",
            " |-- Low: double (nullable = true)\n",
            " |-- Close: double (nullable = true)\n",
            " |-- Volume: long (nullable = true)\n",
            " |-- Currency: string (nullable = true)\n",
            "\n",
            "+----------+----+----+---+-----+------+--------+\n",
            "|      Date|Open|High|Low|Close|Volume|Currency|\n",
            "+----------+----+----+---+-----+------+--------+\n",
            "|2010-07-18| 0.0| 0.1|0.1|  0.1|    75|     USD|\n",
            "|2010-07-19| 0.1| 0.1|0.1|  0.1|   574|     USD|\n",
            "|2010-07-20| 0.1| 0.1|0.1|  0.1|   262|     USD|\n",
            "|2010-07-21| 0.1| 0.1|0.1|  0.1|   575|     USD|\n",
            "|2010-07-22| 0.1| 0.1|0.1|  0.1|  2160|     USD|\n",
            "|2010-07-23| 0.1| 0.1|0.1|  0.1|  2403|     USD|\n",
            "|2010-07-24| 0.1| 0.1|0.1|  0.1|   496|     USD|\n",
            "|2010-07-25| 0.1| 0.1|0.1|  0.1|  1551|     USD|\n",
            "|2010-07-26| 0.1| 0.1|0.1|  0.1|   877|     USD|\n",
            "|2010-07-27| 0.1| 0.1|0.1|  0.1|  3374|     USD|\n",
            "|2010-07-28| 0.1| 0.1|0.1|  0.1|  4390|     USD|\n",
            "|2010-07-29| 0.1| 0.1|0.1|  0.1|  8058|     USD|\n",
            "|2010-07-30| 0.1| 0.1|0.1|  0.1|  3021|     USD|\n",
            "|2010-07-31| 0.1| 0.1|0.1|  0.1|  4022|     USD|\n",
            "|2010-08-01| 0.1| 0.1|0.1|  0.1|  2601|     USD|\n",
            "|2010-08-02| 0.1| 0.1|0.1|  0.1|  3599|     USD|\n",
            "|2010-08-03| 0.1| 0.1|0.1|  0.1|  9821|     USD|\n",
            "|2010-08-04| 0.1| 0.1|0.1|  0.1|  3494|     USD|\n",
            "|2010-08-05| 0.1| 0.1|0.1|  0.1|  5034|     USD|\n",
            "|2010-08-06| 0.1| 0.1|0.1|  0.1|  1395|     USD|\n",
            "+----------+----+----+---+-----+------+--------+\n",
            "only showing top 20 rows\n",
            "\n"
          ]
        }
      ]
    },
    {
      "cell_type": "markdown",
      "source": [
        "# **Assuming `Close` is the column you want to predict**"
      ],
      "metadata": {
        "id": "JaNK-3kPxqTa"
      }
    },
    {
      "cell_type": "code",
      "source": [
        "assembler = VectorAssembler(inputCols=['Open', 'High', 'Low', 'Volume'], outputCol='features')\n",
        "data = assembler.transform(data)"
      ],
      "metadata": {
        "id": "gU21JaJIvf_h"
      },
      "execution_count": 7,
      "outputs": []
    },
    {
      "cell_type": "markdown",
      "source": [
        "# **Rename the `Close` column to `label`**"
      ],
      "metadata": {
        "id": "YPVG_YZmxwQB"
      }
    },
    {
      "cell_type": "code",
      "source": [
        "data = data.withColumnRenamed('Close', 'label')"
      ],
      "metadata": {
        "id": "ThPSMqGqvguU"
      },
      "execution_count": 8,
      "outputs": []
    },
    {
      "cell_type": "markdown",
      "source": [
        "# **Split the data into training and testing sets**"
      ],
      "metadata": {
        "id": "DQKqVvucx0HZ"
      }
    },
    {
      "cell_type": "code",
      "source": [
        "train_data, test_data = data.randomSplit([0.8, 0.2], seed=1234)"
      ],
      "metadata": {
        "id": "2LGr0GnPvhNH"
      },
      "execution_count": 9,
      "outputs": []
    },
    {
      "cell_type": "markdown",
      "source": [
        "# **Create a Linear Regression model**"
      ],
      "metadata": {
        "id": "HG_9KnUSx2Od"
      }
    },
    {
      "cell_type": "code",
      "source": [
        "lr = LinearRegression(featuresCol='features', labelCol='label')"
      ],
      "metadata": {
        "id": "JPpBJLWIvhpJ"
      },
      "execution_count": 10,
      "outputs": []
    },
    {
      "cell_type": "markdown",
      "source": [
        "# **Train the model**"
      ],
      "metadata": {
        "id": "zU3E_3hzx4Ps"
      }
    },
    {
      "cell_type": "code",
      "source": [
        "lr_model = lr.fit(train_data)"
      ],
      "metadata": {
        "id": "5QmfZwFKviEF"
      },
      "execution_count": 11,
      "outputs": []
    },
    {
      "cell_type": "markdown",
      "source": [
        "# **Make predictions on the test set**"
      ],
      "metadata": {
        "id": "gnPeQ9Nex6H0"
      }
    },
    {
      "cell_type": "code",
      "source": [
        "predictions = lr_model.transform(test_data)"
      ],
      "metadata": {
        "id": "d_Zk1rdjvijS"
      },
      "execution_count": 12,
      "outputs": []
    },
    {
      "cell_type": "markdown",
      "source": [
        "# **Evaluate the model**"
      ],
      "metadata": {
        "id": "QN2iAiFax8L9"
      }
    },
    {
      "cell_type": "code",
      "source": [
        "evaluator = RegressionEvaluator(labelCol='label', predictionCol='prediction', metricName='rmse')\n",
        "rmse = evaluator.evaluate(predictions)\n",
        "evaluator = RegressionEvaluator(labelCol='label', predictionCol='prediction', metricName='rmse')\n",
        "rmse = evaluator.evaluate(predictions)"
      ],
      "metadata": {
        "id": "e9IoN67ZxIYi"
      },
      "execution_count": 16,
      "outputs": []
    },
    {
      "cell_type": "markdown",
      "source": [
        "# **Metrics**"
      ],
      "metadata": {
        "id": "kJTYHpfByC04"
      }
    },
    {
      "cell_type": "code",
      "source": [
        "print(f\"Root Mean Squared Error (RMSE): {rmse}\")\n",
        "print(f\"Coefficients: {lr_model.coefficients}\")\n",
        "print(f\"Intercept: {lr_model.intercept}\")\n",
        "print(f\"Root Mean Squared Error (RMSE): {rmse}\")"
      ],
      "metadata": {
        "colab": {
          "base_uri": "https://localhost:8080/"
        },
        "id": "z9JeD3cExI6_",
        "outputId": "1a454688-c701-4df7-9a31-f827b9dbdae2"
      },
      "execution_count": 17,
      "outputs": [
        {
          "output_type": "stream",
          "name": "stdout",
          "text": [
            "Root Mean Squared Error (RMSE): 313.07742149255967\n",
            "Coefficients: [-0.5134050434234165,0.9155894600413454,0.5921274086035752,-4.8405627065459295e-08]\n",
            "Intercept: -1.3033403227673066\n",
            "Root Mean Squared Error (RMSE): 313.07742149255967\n"
          ]
        }
      ]
    },
    {
      "cell_type": "markdown",
      "source": [
        "# **Stop the Spark session**"
      ],
      "metadata": {
        "id": "0BFwG0BKyAX5"
      }
    },
    {
      "cell_type": "code",
      "source": [
        "# spark.stop()"
      ],
      "metadata": {
        "id": "k3uhvaKRxEcj"
      },
      "execution_count": 15,
      "outputs": []
    },
    {
      "cell_type": "code",
      "source": [],
      "metadata": {
        "id": "-mqhDNpJ0soI"
      },
      "execution_count": 15,
      "outputs": []
    }
  ]
}